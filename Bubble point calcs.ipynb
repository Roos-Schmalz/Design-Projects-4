{
 "cells": [
  {
   "cell_type": "code",
   "execution_count": 10,
   "id": "c571953e",
   "metadata": {},
   "outputs": [],
   "source": [
    "import numpy as np\n",
    "\n",
    "def thermodynamic_constants(compounds):\n",
    "    properties = {\n",
    "        \"water\": {\"antoine\": [5.11564, 1687.537, 230.17], \n",
    "                   \"Cp_liq\": 76.392/1000, \"Cp_vap\": 33.59/1000, \"Hvap\": 35.003, \"activity coefficient\":1}, #Hvap is at Tb: 373.15 K\n",
    "        \"nitric acid\": {\"antoine\": [4.28523, 1337.035, 224.78], \n",
    "                         \"Cp_liq\": 110.679/1000, \"Cp_vap\": 53.336/1000, \"Hvap\": 25.285, \"activity coefficient\":0.725}, #Hvap is at Tb: 356.15 K\n",
    "        \"ammonium nitrate\": {\"antoine\": [7.105, 4360, 0], \n",
    "                         \"Cp_liq\": 132.2144/1000, \"Cp_vap\": 85.353/1000, \"Hvap\": 50, \"activity coefficient\":0.142} #Hvap is at Tb: 356.15 K\n",
    "        \n",
    "    }\n",
    "        \n",
    "    cts_antoine = np.array([properties[comp][\"antoine\"] for comp in compounds])\n",
    "    Cp_liq = np.array([properties[comp][\"Cp_liq\"] for comp in compounds])\n",
    "    Cp_vap = np.array([properties[comp][\"Cp_vap\"] for comp in compounds])\n",
    "    Hvap = np.array([properties[comp][\"Hvap\"] for comp in compounds])\n",
    "    Activity_coefficient = np.array([properties[comp][\"activity coefficient\"] for comp in compounds])\n",
    " \n",
    "    return (cts_antoine, Cp_liq, Cp_vap, Hvap, Activity_coefficient)"
   ]
  },
  {
   "cell_type": "code",
   "execution_count": 11,
   "id": "7263e065",
   "metadata": {},
   "outputs": [],
   "source": [
    "def pure_vapor_pressure(compounds, T):\n",
    "    \n",
    "    cts, _ , _, _ , _ = thermodynamic_constants(compounds)\n",
    "    p_vap = np.zeros(len(compounds))\n",
    "    for i in range(len(compounds)):\n",
    "        A = cts[i][0]\n",
    "        B = cts[i][1]\n",
    "        C = cts[i][2]\n",
    "        \n",
    "        exp_vap = A - (B / (T + C - 273.15)) #antoine equation\n",
    "        p_vap[i] = pow(10, exp_vap)\n",
    "        \n",
    "    return p_vap"
   ]
  },
  {
   "cell_type": "code",
   "execution_count": 12,
   "id": "6d3c70ca",
   "metadata": {},
   "outputs": [],
   "source": [
    "\n",
    "def Bubble_pressure(compounds, T, x):\n",
    "    \n",
    "    Pvap_mix = pure_vapor_pressure(compounds, T)\n",
    "    \n",
    "    \n",
    "    # Extract activity coefficients\n",
    "    _ , _ , _ , _ , activity_coefficients = thermodynamic_constants(compounds)\n",
    "    activity_coefficients = activity_coefficients.flatten()  # Convert to 1D array\n",
    "    \n",
    "    tol = 1.0e-10\n",
    "\n",
    "    Po = sum(x * Pvap_mix)\n",
    "\n",
    "    fequil = 1.0\n",
    "\n",
    "    while abs(fequil) > tol:\n",
    "        Ki = (activity_coefficients * Pvap_mix) / Po  #modified raoults law  \n",
    "        y = Ki * x  \n",
    "        fequil = 1.0 - sum(Ki * x)  \n",
    "\n",
    "        defun = 10*sum(Ki * x) / Po  \n",
    "        P1 = Po - (fequil / defun)\n",
    "        Po = P1\n",
    "    \n",
    "    return P1, y\n"
   ]
  },
  {
   "cell_type": "code",
   "execution_count": 13,
   "id": "1be1e172",
   "metadata": {},
   "outputs": [
    {
     "name": "stdout",
     "output_type": "stream",
     "text": [
      "(1.8612786810372681, array([0.98607032, 0.01392968]))\n"
     ]
    }
   ],
   "source": [
    "compounds = [\"water\",\"nitric acid\"]\n",
    "Z = [0.985290088,0.014709912]\n",
    "T = 118.1 + 273.15 #C\n",
    "\n",
    "print(Bubble_pressure(compounds, T, Z))"
   ]
  },
  {
   "cell_type": "code",
   "execution_count": 16,
   "id": "72f265c5",
   "metadata": {},
   "outputs": [],
   "source": [
    "def Dew_pressure(compounds, T, y):\n",
    "    \n",
    "    Pvap_mix = pure_vapor_pressure(compounds, T)\n",
    "    \n",
    "    \n",
    "    # Extract activity coefficients\n",
    "    _ , _ , _ , _ , activity_coefficients = thermodynamic_constants(compounds)\n",
    "    activity_coefficients = activity_coefficients.flatten()  # Convert to 1D array\n",
    "    \n",
    "    tol = 1.0e-10\n",
    "\n",
    "    Po = sum(y * Pvap_mix)\n",
    "\n",
    "    fequil = 1.0\n",
    "\n",
    "    while abs(fequil) > tol:\n",
    "        Ki = (activity_coefficients * Pvap_mix) / Po  #modified raoults law \n",
    "        Ki = np.maximum(Ki, 1e-10)\n",
    "        x = y / Ki  \n",
    "        fequil = 1.0 - sum(y / Ki)  \n",
    "\n",
    "        defun = 10*sum(y / Ki) / Po  \n",
    "        P1 = Po - (fequil / defun)\n",
    "        Po = P1\n",
    "    \n",
    "    return P1, x"
   ]
  },
  {
   "cell_type": "code",
   "execution_count": 17,
   "id": "b11ddef5",
   "metadata": {},
   "outputs": [
    {
     "name": "stderr",
     "output_type": "stream",
     "text": [
      "/var/folders/s0/7945scyx493_5qvr8prl0z6r0000gn/T/ipykernel_7146/1663351390.py:23: RuntimeWarning: overflow encountered in double_scalars\n",
      "  P1 = Po - (fequil / defun)\n",
      "/var/folders/s0/7945scyx493_5qvr8prl0z6r0000gn/T/ipykernel_7146/1663351390.py:23: RuntimeWarning: divide by zero encountered in double_scalars\n",
      "  P1 = Po - (fequil / defun)\n"
     ]
    },
    {
     "ename": "KeyboardInterrupt",
     "evalue": "",
     "output_type": "error",
     "traceback": [
      "\u001b[0;31m---------------------------------------------------------------------------\u001b[0m",
      "\u001b[0;31mKeyboardInterrupt\u001b[0m                         Traceback (most recent call last)",
      "Input \u001b[0;32mIn [17]\u001b[0m, in \u001b[0;36m<cell line: 5>\u001b[0;34m()\u001b[0m\n\u001b[1;32m      2\u001b[0m Z \u001b[38;5;241m=\u001b[39m [\u001b[38;5;241m0.985290088\u001b[39m,\u001b[38;5;241m0.014709912\u001b[39m]\n\u001b[1;32m      3\u001b[0m T \u001b[38;5;241m=\u001b[39m \u001b[38;5;241m118.1\u001b[39m \u001b[38;5;241m+\u001b[39m \u001b[38;5;241m273.15\u001b[39m \u001b[38;5;66;03m#C\u001b[39;00m\n\u001b[0;32m----> 5\u001b[0m \u001b[38;5;28mprint\u001b[39m(\u001b[43mDew_pressure\u001b[49m\u001b[43m(\u001b[49m\u001b[43mcompounds\u001b[49m\u001b[43m,\u001b[49m\u001b[43m \u001b[49m\u001b[43mT\u001b[49m\u001b[43m,\u001b[49m\u001b[43m \u001b[49m\u001b[43mZ\u001b[49m\u001b[43m)\u001b[49m)\n",
      "Input \u001b[0;32mIn [16]\u001b[0m, in \u001b[0;36mDew_pressure\u001b[0;34m(compounds, T, y)\u001b[0m\n\u001b[1;32m     14\u001b[0m fequil \u001b[38;5;241m=\u001b[39m \u001b[38;5;241m1.0\u001b[39m\n\u001b[1;32m     16\u001b[0m \u001b[38;5;28;01mwhile\u001b[39;00m \u001b[38;5;28mabs\u001b[39m(fequil) \u001b[38;5;241m>\u001b[39m tol:\n\u001b[0;32m---> 17\u001b[0m     Ki \u001b[38;5;241m=\u001b[39m (\u001b[43mactivity_coefficients\u001b[49m\u001b[43m \u001b[49m\u001b[38;5;241;43m*\u001b[39;49m\u001b[43m \u001b[49m\u001b[43mPvap_mix\u001b[49m) \u001b[38;5;241m/\u001b[39m Po  \u001b[38;5;66;03m#modified raoults law \u001b[39;00m\n\u001b[1;32m     18\u001b[0m     Ki \u001b[38;5;241m=\u001b[39m np\u001b[38;5;241m.\u001b[39mmaximum(Ki, \u001b[38;5;241m1e-10\u001b[39m)\n\u001b[1;32m     19\u001b[0m     x \u001b[38;5;241m=\u001b[39m y \u001b[38;5;241m/\u001b[39m Ki  \n",
      "\u001b[0;31mKeyboardInterrupt\u001b[0m: "
     ]
    }
   ],
   "source": [
    "compounds = [\"water\",\"nitric acid\"]\n",
    "Z = [0.985290088,0.014709912]\n",
    "T = 118.1 + 273.15 #C\n",
    "\n",
    "print(Dew_pressure(compounds, T, Z))"
   ]
  },
  {
   "cell_type": "code",
   "execution_count": null,
   "id": "4260ac43",
   "metadata": {},
   "outputs": [],
   "source": []
  }
 ],
 "metadata": {
  "kernelspec": {
   "display_name": "Python 3 (ipykernel)",
   "language": "python",
   "name": "python3"
  },
  "language_info": {
   "codemirror_mode": {
    "name": "ipython",
    "version": 3
   },
   "file_extension": ".py",
   "mimetype": "text/x-python",
   "name": "python",
   "nbconvert_exporter": "python",
   "pygments_lexer": "ipython3",
   "version": "3.9.12"
  }
 },
 "nbformat": 4,
 "nbformat_minor": 5
}
